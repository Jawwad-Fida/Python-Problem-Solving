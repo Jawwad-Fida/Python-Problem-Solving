{
 "cells": [
  {
   "cell_type": "code",
   "execution_count": 4,
   "id": "trained-identity",
   "metadata": {},
   "outputs": [],
   "source": [
    "import numpy as np\n",
    "import pandas as pd"
   ]
  },
  {
   "cell_type": "markdown",
   "id": "imperial-willow",
   "metadata": {},
   "source": [
    "## 2) Slicing Arrays\n",
    "\n",
    "creating sub-arrays from array"
   ]
  },
  {
   "cell_type": "code",
   "execution_count": 2,
   "id": "threaded-airline",
   "metadata": {},
   "outputs": [],
   "source": [
    "# Negative indexing --> Access an array from end"
   ]
  },
  {
   "cell_type": "code",
   "execution_count": 48,
   "id": "presidential-ministry",
   "metadata": {},
   "outputs": [
    {
     "data": {
      "text/plain": [
       "8"
      ]
     },
     "execution_count": 48,
     "metadata": {},
     "output_type": "execute_result"
    }
   ],
   "source": [
    "arr = np.array([1,2,2,5,5,6,9,8])\n",
    "arr[-1]"
   ]
  },
  {
   "cell_type": "code",
   "execution_count": 5,
   "id": "included-stereo",
   "metadata": {},
   "outputs": [],
   "source": [
    "# Slicing arrays\n",
    "\n",
    "# [start:end:step], step initially = 1"
   ]
  },
  {
   "cell_type": "code",
   "execution_count": 6,
   "id": "sufficient-productivity",
   "metadata": {},
   "outputs": [
    {
     "data": {
      "text/plain": [
       "array([2, 3])"
      ]
     },
     "execution_count": 6,
     "metadata": {},
     "output_type": "execute_result"
    }
   ],
   "source": [
    "# slice from index 1 to 3 (not included)\n",
    "arr[1:3]\n",
    "# stops at end-1"
   ]
  },
  {
   "cell_type": "code",
   "execution_count": 7,
   "id": "historic-relevance",
   "metadata": {},
   "outputs": [
    {
     "data": {
      "text/plain": [
       "array([3, 4, 5])"
      ]
     },
     "execution_count": 7,
     "metadata": {},
     "output_type": "execute_result"
    }
   ],
   "source": [
    "# slice from index 2 to end of array\n",
    "arr[2:]"
   ]
  },
  {
   "cell_type": "code",
   "execution_count": 8,
   "id": "devoted-recorder",
   "metadata": {},
   "outputs": [
    {
     "data": {
      "text/plain": [
       "array([1, 2, 3])"
      ]
     },
     "execution_count": 8,
     "metadata": {},
     "output_type": "execute_result"
    }
   ],
   "source": [
    "# slice from beginning to index 3\n",
    "arr[:3]"
   ]
  },
  {
   "cell_type": "code",
   "execution_count": 9,
   "id": "aquatic-chair",
   "metadata": {},
   "outputs": [],
   "source": [
    "# Slicing 2D arrays"
   ]
  },
  {
   "cell_type": "code",
   "execution_count": 10,
   "id": "sufficient-fireplace",
   "metadata": {},
   "outputs": [],
   "source": []
  },
  {
   "cell_type": "code",
   "execution_count": 12,
   "id": "electric-diploma",
   "metadata": {},
   "outputs": [
    {
     "data": {
      "text/plain": [
       "array([2, 3, 4])"
      ]
     },
     "execution_count": 12,
     "metadata": {},
     "output_type": "execute_result"
    }
   ],
   "source": [
    "arr2[0, 1:4]\n",
    "# from first row, slice from index 1 to 4 (not included)"
   ]
  },
  {
   "cell_type": "code",
   "execution_count": 13,
   "id": "wanted-information",
   "metadata": {},
   "outputs": [
    {
     "data": {
      "text/plain": [
       "array([3, 8])"
      ]
     },
     "execution_count": 13,
     "metadata": {},
     "output_type": "execute_result"
    }
   ],
   "source": [
    "# from both rows, return index 2\n",
    "arr2[0:2, 2]"
   ]
  },
  {
   "cell_type": "code",
   "execution_count": 14,
   "id": "lasting-nebraska",
   "metadata": {},
   "outputs": [
    {
     "data": {
      "text/plain": [
       "array([[2, 3, 4],\n",
       "       [7, 8, 9]])"
      ]
     },
     "execution_count": 14,
     "metadata": {},
     "output_type": "execute_result"
    }
   ],
   "source": [
    "# return a 2d array from slicing\n",
    "arr2[0:2, 1:4]"
   ]
  },
  {
   "cell_type": "code",
   "execution_count": 25,
   "id": "frank-basement",
   "metadata": {},
   "outputs": [
    {
     "data": {
      "text/plain": [
       "array([5, 4, 3, 2, 1])"
      ]
     },
     "execution_count": 25,
     "metadata": {},
     "output_type": "execute_result"
    }
   ],
   "source": [
    "# reverse an array\n",
    "arr[::-1]"
   ]
  },
  {
   "cell_type": "markdown",
   "id": "eligible-study",
   "metadata": {},
   "source": [
    "### 3) Creating Arrays"
   ]
  },
  {
   "cell_type": "code",
   "execution_count": 5,
   "id": "meaningful-lounge",
   "metadata": {},
   "outputs": [],
   "source": [
    "# Placeholder arrays --> to keep initial values\n",
    "\n",
    "# np.zeros() --> return a new array filed with 0s\n",
    "# ,and np.ones() return a new array filed with 1s"
   ]
  },
  {
   "cell_type": "code",
   "execution_count": 6,
   "id": "painted-algorithm",
   "metadata": {},
   "outputs": [
    {
     "data": {
      "text/plain": [
       "array([[0., 0., 0.],\n",
       "       [0., 0., 0.]])"
      ]
     },
     "execution_count": 6,
     "metadata": {},
     "output_type": "execute_result"
    }
   ],
   "source": [
    "zeros = np.zeros((2,3))\n",
    "# the array will have 2 dimensions, each 3 elements\n",
    "zeros"
   ]
  },
  {
   "cell_type": "code",
   "execution_count": 7,
   "id": "african-leave",
   "metadata": {},
   "outputs": [
    {
     "data": {
      "text/plain": [
       "array([1., 1., 1.])"
      ]
     },
     "execution_count": 7,
     "metadata": {},
     "output_type": "execute_result"
    }
   ],
   "source": [
    "ones = np.ones(3,)\n",
    "ones\n",
    "# 1 dimension, with 3 elements"
   ]
  },
  {
   "cell_type": "code",
   "execution_count": 8,
   "id": "eligible-school",
   "metadata": {},
   "outputs": [
    {
     "data": {
      "text/plain": [
       "array([0, 2, 4, 6, 8])"
      ]
     },
     "execution_count": 8,
     "metadata": {},
     "output_type": "execute_result"
    }
   ],
   "source": [
    "# Shift + tab --> open up function docstring from documentation\n",
    "\n",
    "# arange(start,stop,step) = Create an array within a range of values\n",
    " \n",
    "range_array = np.arange(0,10,2)\n",
    "range_array"
   ]
  },
  {
   "cell_type": "code",
   "execution_count": 17,
   "id": "impressive-father",
   "metadata": {},
   "outputs": [
    {
     "data": {
      "text/plain": [
       "array([[5, 1, 1, 2, 7],\n",
       "       [0, 7, 1, 2, 2],\n",
       "       [2, 2, 8, 1, 6]])"
      ]
     },
     "execution_count": 17,
     "metadata": {},
     "output_type": "execute_result"
    }
   ],
   "source": [
    "# Fill an array with random integers\n",
    "\n",
    "# random.randint(low,high,size)\n",
    "random_array_2d = np.random.randint(0,10,size=(3,5))\n",
    "\n",
    "random_array_2d # 3 rows, 5 cols"
   ]
  },
  {
   "cell_type": "code",
   "execution_count": 10,
   "id": "chicken-national",
   "metadata": {},
   "outputs": [
    {
     "data": {
      "text/plain": [
       "15"
      ]
     },
     "execution_count": 10,
     "metadata": {},
     "output_type": "execute_result"
    }
   ],
   "source": [
    "random_array_2d.size"
   ]
  },
  {
   "cell_type": "code",
   "execution_count": 11,
   "id": "disabled-singles",
   "metadata": {},
   "outputs": [
    {
     "data": {
      "text/plain": [
       "(3, 5)"
      ]
     },
     "execution_count": 11,
     "metadata": {},
     "output_type": "execute_result"
    }
   ],
   "source": [
    "random_array_2d.shape"
   ]
  },
  {
   "cell_type": "code",
   "execution_count": 12,
   "id": "eligible-costume",
   "metadata": {},
   "outputs": [
    {
     "data": {
      "text/plain": [
       "array([[5, 8, 3, 6, 1]])"
      ]
     },
     "execution_count": 12,
     "metadata": {},
     "output_type": "execute_result"
    }
   ],
   "source": [
    "random_array = np.random.randint(0,10, size=(1,5))\n",
    "random_array # 1d, 5 elements"
   ]
  },
  {
   "cell_type": "code",
   "execution_count": 13,
   "id": "certain-camping",
   "metadata": {},
   "outputs": [
    {
     "data": {
      "text/plain": [
       "array([[0.27677592, 0.70826555, 0.08577419],\n",
       "       [0.48089639, 0.71222076, 0.6321143 ],\n",
       "       [0.66164426, 0.3188512 , 0.61689128],\n",
       "       [0.53442974, 0.74029995, 0.08329263],\n",
       "       [0.62411571, 0.43663984, 0.11793457]])"
      ]
     },
     "execution_count": 13,
     "metadata": {},
     "output_type": "execute_result"
    }
   ],
   "source": [
    "random_array_2 = np.random.random((5, 3))\n",
    "# generates floating numbers between 0.0 - 1.0\n",
    "# size = (5,3), i.e. 5 rows, 3 cols\n",
    "random_array_2"
   ]
  },
  {
   "cell_type": "code",
   "execution_count": 14,
   "id": "trained-paris",
   "metadata": {},
   "outputs": [
    {
     "data": {
      "text/plain": [
       "array([[0.63569199, 0.19695445, 0.26310851],\n",
       "       [0.13453928, 0.20006762, 0.8769305 ],\n",
       "       [0.50765981, 0.13160756, 0.41561243],\n",
       "       [0.90522816, 0.43550697, 0.50577461],\n",
       "       [0.74759013, 0.00376786, 0.31134312]])"
      ]
     },
     "execution_count": 14,
     "metadata": {},
     "output_type": "execute_result"
    }
   ],
   "source": [
    "# similar to above\n",
    "random_array_3 = np.random.rand(5,3)\n",
    "random_array_3"
   ]
  },
  {
   "cell_type": "markdown",
   "id": "average-guard",
   "metadata": {},
   "source": [
    "### Numpy Random Seed"
   ]
  },
  {
   "cell_type": "code",
   "execution_count": 15,
   "id": "reliable-thirty",
   "metadata": {},
   "outputs": [],
   "source": [
    "# Pseudo-random numbers\n",
    "# np.random.seed()\n",
    "\n",
    "# NumPy uses pseudo-random numbers, which means, the numbers look random \n",
    "# but are re-producable ---> closer to the seed"
   ]
  },
  {
   "cell_type": "code",
   "execution_count": 19,
   "id": "twelve-harmony",
   "metadata": {},
   "outputs": [],
   "source": [
    "# With np.random.seed() set, every time you run the cell above, the same random numbers will be generated.\n",
    "\n",
    "# What if np.random.seed() wasn't set?\n",
    "\n",
    "# Every time you run the cell below, a new set of numbers will appear."
   ]
  },
  {
   "cell_type": "code",
   "execution_count": 32,
   "id": "flush-northeast",
   "metadata": {},
   "outputs": [
    {
     "data": {
      "text/plain": [
       "array([[5, 0, 3, 3, 7]])"
      ]
     },
     "execution_count": 32,
     "metadata": {},
     "output_type": "execute_result"
    }
   ],
   "source": [
    "np.random.seed(0)\n",
    "random_array_4 = np.random.randint(10, size=(1,5))\n",
    "random_array_4"
   ]
  },
  {
   "cell_type": "code",
   "execution_count": 28,
   "id": "weekly-velvet",
   "metadata": {},
   "outputs": [
    {
     "data": {
      "text/plain": [
       "(1, 5)"
      ]
     },
     "execution_count": 28,
     "metadata": {},
     "output_type": "execute_result"
    }
   ],
   "source": [
    "random_array_4.shape"
   ]
  },
  {
   "cell_type": "code",
   "execution_count": 34,
   "id": "danish-psychology",
   "metadata": {},
   "outputs": [
    {
     "data": {
      "text/plain": [
       "array([[0.07630829, 0.77991879, 0.43840923, 0.72346518],\n",
       "       [0.97798951, 0.53849587, 0.50112046, 0.07205113],\n",
       "       [0.26843898, 0.4998825 , 0.67923   , 0.80373904]])"
      ]
     },
     "execution_count": 34,
     "metadata": {},
     "output_type": "execute_result"
    }
   ],
   "source": [
    "np.random.seed(7)\n",
    "random_array_5 = np.random.random((3,4))\n",
    "random_array_5"
   ]
  },
  {
   "cell_type": "code",
   "execution_count": 35,
   "id": "vanilla-sunday",
   "metadata": {},
   "outputs": [],
   "source": [
    "# --------------------------------------------------------------"
   ]
  },
  {
   "cell_type": "code",
   "execution_count": 37,
   "id": "waiting-equation",
   "metadata": {},
   "outputs": [
    {
     "data": {
      "text/plain": [
       "array([19, 60, 44, 63, 69])"
      ]
     },
     "execution_count": 37,
     "metadata": {},
     "output_type": "execute_result"
    }
   ],
   "source": [
    "# Generate a 1-D array containing 5 random integers from 0 to 100:\n",
    "my_arr = np.random.randint(100, size=(5))\n",
    "my_arr"
   ]
  },
  {
   "cell_type": "code",
   "execution_count": 39,
   "id": "increased-karen",
   "metadata": {},
   "outputs": [
    {
     "data": {
      "text/plain": [
       "array([[67, 72, 83, 48,  1],\n",
       "       [64, 16, 31, 93, 44],\n",
       "       [92, 71, 23, 10, 35]])"
      ]
     },
     "execution_count": 39,
     "metadata": {},
     "output_type": "execute_result"
    }
   ],
   "source": [
    "# Generate a 2-D array with 3 rows, each row containing 5 random integers from 0 to 100\n",
    "my_arr2 = np.random.randint(100, size=(3,5))\n",
    "my_arr2"
   ]
  },
  {
   "cell_type": "code",
   "execution_count": 41,
   "id": "weighted-industry",
   "metadata": {},
   "outputs": [
    {
     "data": {
      "text/plain": [
       "array([0.54723513, 0.31020924, 0.28271973, 0.92099354, 0.43334216])"
      ]
     },
     "execution_count": 41,
     "metadata": {},
     "output_type": "execute_result"
    }
   ],
   "source": [
    "# Generate a 1-D array containing 5 random floats:\n",
    "my_arr3 = np.random.rand(5)\n",
    "my_arr3"
   ]
  },
  {
   "cell_type": "code",
   "execution_count": 42,
   "id": "charming-compatibility",
   "metadata": {},
   "outputs": [],
   "source": [
    "# choice() method allows you to generate a random value based on an array of values.\n",
    "# size parameter to specify the shape of the array."
   ]
  },
  {
   "cell_type": "code",
   "execution_count": 45,
   "id": "accessory-unemployment",
   "metadata": {},
   "outputs": [
    {
     "data": {
      "text/plain": [
       "array([[9, 9, 7, 9, 3],\n",
       "       [3, 5, 9, 5, 5],\n",
       "       [3, 9, 7, 7, 3]])"
      ]
     },
     "execution_count": 45,
     "metadata": {},
     "output_type": "execute_result"
    }
   ],
   "source": [
    "# Generate a 2-D array that consists of the values in the array parameter (3, 5, 7, and 9):\n",
    "my_arr4 = np.random.choice([3,5,7,9],size=(3,5))\n",
    "my_arr4"
   ]
  },
  {
   "cell_type": "markdown",
   "id": "straight-fifty",
   "metadata": {},
   "source": [
    "### More Numpy Random distributions\n",
    "\n",
    "learn when needed (w3schools)\n",
    "1) data distribution - probability\n",
    "2) normal distribution\n",
    "3) binomial distribution\n",
    "4)poisson distribution\n",
    "5) uniform distribution\n",
    "6) exponential distribution\n",
    "7) random permutation\n",
    "8) seaborn module\n"
   ]
  },
  {
   "cell_type": "markdown",
   "id": "naughty-beauty",
   "metadata": {},
   "source": [
    "### Find the unique elements of an array"
   ]
  },
  {
   "cell_type": "code",
   "execution_count": 52,
   "id": "knowing-beast",
   "metadata": {},
   "outputs": [],
   "source": [
    "# using np.unique(arr) - study from documentation or google search"
   ]
  }
 ],
 "metadata": {
  "kernelspec": {
   "display_name": "Python 3",
   "language": "python",
   "name": "python3"
  },
  "language_info": {
   "codemirror_mode": {
    "name": "ipython",
    "version": 3
   },
   "file_extension": ".py",
   "mimetype": "text/x-python",
   "name": "python",
   "nbconvert_exporter": "python",
   "pygments_lexer": "ipython3",
   "version": "3.8.5"
  }
 },
 "nbformat": 4,
 "nbformat_minor": 5
}
