{
 "cells": [
  {
   "cell_type": "code",
   "execution_count": 4,
   "id": "demonstrated-start",
   "metadata": {},
   "outputs": [],
   "source": [
    "import numpy as np\n",
    "# import numpy library using np alias"
   ]
  },
  {
   "cell_type": "markdown",
   "id": "precious-church",
   "metadata": {},
   "source": [
    "## 1) Datatypes & Attributes of Numpy"
   ]
  },
  {
   "cell_type": "code",
   "execution_count": 5,
   "id": "fifty-corrections",
   "metadata": {},
   "outputs": [],
   "source": [
    "# Numpy's main datatype is ndarray = n dimensional array"
   ]
  },
  {
   "cell_type": "code",
   "execution_count": 6,
   "id": "inclusive-macro",
   "metadata": {},
   "outputs": [],
   "source": [
    "# 1-dimensonal array, also referred to as a vector\n",
    "arr1 = np.array([1, 2, 3])\n",
    "# accessing array function\n",
    "# create a list of numbers"
   ]
  },
  {
   "cell_type": "code",
   "execution_count": 7,
   "id": "greater-producer",
   "metadata": {},
   "outputs": [
    {
     "name": "stdout",
     "output_type": "stream",
     "text": [
      "[1 2 3]\n"
     ]
    }
   ],
   "source": [
    "print(arr1) # for printing arr1"
   ]
  },
  {
   "cell_type": "code",
   "execution_count": 8,
   "id": "welcome-pulse",
   "metadata": {},
   "outputs": [
    {
     "data": {
      "text/plain": [
       "array([1, 2, 3])"
      ]
     },
     "execution_count": 8,
     "metadata": {},
     "output_type": "execute_result"
    }
   ],
   "source": [
    "arr1 # or 2nd way in jupyter"
   ]
  },
  {
   "cell_type": "code",
   "execution_count": 9,
   "id": "supreme-checklist",
   "metadata": {},
   "outputs": [
    {
     "data": {
      "text/plain": [
       "numpy.ndarray"
      ]
     },
     "execution_count": 9,
     "metadata": {},
     "output_type": "execute_result"
    }
   ],
   "source": [
    "type(arr1) # checking type\n",
    "# or print(type(arr1))"
   ]
  },
  {
   "cell_type": "code",
   "execution_count": 10,
   "id": "incorporate-flight",
   "metadata": {},
   "outputs": [],
   "source": [
    "# Dimensions in arrays \n",
    "\n",
    "# 2-dimensional array, also referred to as matrix\n",
    "arr2 = np.array([\n",
    "    [1,2.0,3.3],\n",
    "    [4,5,6.5]\n",
    "])"
   ]
  },
  {
   "cell_type": "code",
   "execution_count": 38,
   "id": "gentle-savings",
   "metadata": {},
   "outputs": [],
   "source": [
    "# 3-dimensional array, also referred to as a matrix\n",
    "arr3 = np.array([\n",
    "                [[1, 2, 3],\n",
    "                [4, 5, 6]],\n",
    "               [[7, 8, 9],\n",
    "                [10, 11, 12]],\n",
    "               [[13, 14, 15],\n",
    "                [16, 17, 18]]\n",
    "                ])"
   ]
  },
  {
   "cell_type": "code",
   "execution_count": 12,
   "id": "revolutionary-victim",
   "metadata": {},
   "outputs": [
    {
     "data": {
      "text/plain": [
       "2"
      ]
     },
     "execution_count": 12,
     "metadata": {},
     "output_type": "execute_result"
    }
   ],
   "source": [
    "# accessing array index of 1d array\n",
    "arr1[1]"
   ]
  },
  {
   "cell_type": "code",
   "execution_count": 13,
   "id": "conceptual-neutral",
   "metadata": {},
   "outputs": [
    {
     "data": {
      "text/plain": [
       "array([1. , 2. , 3.3])"
      ]
     },
     "execution_count": 13,
     "metadata": {},
     "output_type": "execute_result"
    }
   ],
   "source": [
    "# accessing array index of 2d array\n",
    "arr2[0]\n",
    "# displays first array(inner) on index 0 of outer array"
   ]
  },
  {
   "cell_type": "code",
   "execution_count": 14,
   "id": "numerical-ghost",
   "metadata": {},
   "outputs": [
    {
     "data": {
      "text/plain": [
       "3.3"
      ]
     },
     "execution_count": 14,
     "metadata": {},
     "output_type": "execute_result"
    }
   ],
   "source": [
    "arr2[0][2] # accessing index 0 of outer array, index 0 has an array\n",
    "# then access index 2 of inner array"
   ]
  },
  {
   "cell_type": "markdown",
   "id": "unlikely-shadow",
   "metadata": {},
   "source": [
    "### when you are opening the notebook again\n",
    "\n",
    "you must start your code again from line 1\n",
    "just press shift + enter "
   ]
  },
  {
   "cell_type": "code",
   "execution_count": 15,
   "id": "tight-spell",
   "metadata": {},
   "outputs": [
    {
     "data": {
      "text/plain": [
       "array([[1. , 2. , 3.3],\n",
       "       [4. , 5. , 6.5]])"
      ]
     },
     "execution_count": 15,
     "metadata": {},
     "output_type": "execute_result"
    }
   ],
   "source": [
    "arr2"
   ]
  },
  {
   "cell_type": "code",
   "execution_count": 16,
   "id": "refined-wellington",
   "metadata": {},
   "outputs": [
    {
     "data": {
      "text/plain": [
       "array([[[ 1,  2,  3],\n",
       "        [ 4,  5,  6],\n",
       "        [ 7,  8,  9],\n",
       "        [10, 11, 12],\n",
       "        [13, 14, 15],\n",
       "        [16, 17, 18]]])"
      ]
     },
     "execution_count": 16,
     "metadata": {},
     "output_type": "execute_result"
    }
   ],
   "source": [
    "arr3"
   ]
  },
  {
   "cell_type": "code",
   "execution_count": 17,
   "id": "sixth-boston",
   "metadata": {},
   "outputs": [],
   "source": [
    "# Shape of an Array = The shape of an array is the number of elements in each dimension.\n",
    "# attribute called shape that returns a tuple with each index having the number of corresponding elements."
   ]
  },
  {
   "cell_type": "code",
   "execution_count": 18,
   "id": "forty-timeline",
   "metadata": {},
   "outputs": [
    {
     "data": {
      "text/plain": [
       "(3,)"
      ]
     },
     "execution_count": 18,
     "metadata": {},
     "output_type": "execute_result"
    }
   ],
   "source": [
    "arr1.shape"
   ]
  },
  {
   "cell_type": "code",
   "execution_count": 19,
   "id": "fallen-trigger",
   "metadata": {},
   "outputs": [
    {
     "data": {
      "text/plain": [
       "(2, 3)"
      ]
     },
     "execution_count": 19,
     "metadata": {},
     "output_type": "execute_result"
    }
   ],
   "source": [
    "arr2.shape\n",
    "# (2,3) = 2 dimensions, each has 3 elements"
   ]
  },
  {
   "cell_type": "code",
   "execution_count": 20,
   "id": "charitable-introduction",
   "metadata": {},
   "outputs": [],
   "source": [
    "# Checking number of dimensions\n",
    "# ndim attribute that returns an integer that tells us how many dimensions the array have"
   ]
  },
  {
   "cell_type": "code",
   "execution_count": 23,
   "id": "indian-cornwall",
   "metadata": {},
   "outputs": [
    {
     "data": {
      "text/plain": [
       "(1, 2, 3)"
      ]
     },
     "execution_count": 23,
     "metadata": {},
     "output_type": "execute_result"
    }
   ],
   "source": [
    "arr1.ndim, arr2.ndim, arr3.ndim\n",
    "# arr1 = 1 dimension, arr2 = 2 dimension, etc..."
   ]
  },
  {
   "cell_type": "code",
   "execution_count": 24,
   "id": "nutritional-visitor",
   "metadata": {},
   "outputs": [],
   "source": [
    "# checking datatype of numpy array - dtype \n",
    "# checking size (no. of elements) of numpy array - size"
   ]
  },
  {
   "cell_type": "code",
   "execution_count": 25,
   "id": "tamil-proof",
   "metadata": {},
   "outputs": [
    {
     "data": {
      "text/plain": [
       "(dtype('int32'), dtype('float64'), dtype('int32'))"
      ]
     },
     "execution_count": 25,
     "metadata": {},
     "output_type": "execute_result"
    }
   ],
   "source": [
    "arr1.dtype, arr2.dtype, arr3.dtype"
   ]
  },
  {
   "cell_type": "code",
   "execution_count": 26,
   "id": "stunning-monkey",
   "metadata": {},
   "outputs": [
    {
     "data": {
      "text/plain": [
       "(3, 6, 18)"
      ]
     },
     "execution_count": 26,
     "metadata": {},
     "output_type": "execute_result"
    }
   ],
   "source": [
    "arr1.size, arr2.size, arr3.size"
   ]
  },
  {
   "cell_type": "markdown",
   "id": "aware-texas",
   "metadata": {},
   "source": [
    "### NOTE\n",
    "although arr1, arr2, and arr3 vary in shapes\n",
    "They are all ndarray ---> type"
   ]
  },
  {
   "cell_type": "markdown",
   "id": "automatic-possible",
   "metadata": {},
   "source": [
    "### Numpy forms the backbone of other ML packages"
   ]
  },
  {
   "cell_type": "code",
   "execution_count": 27,
   "id": "hidden-flash",
   "metadata": {},
   "outputs": [
    {
     "data": {
      "text/html": [
       "<div>\n",
       "<style scoped>\n",
       "    .dataframe tbody tr th:only-of-type {\n",
       "        vertical-align: middle;\n",
       "    }\n",
       "\n",
       "    .dataframe tbody tr th {\n",
       "        vertical-align: top;\n",
       "    }\n",
       "\n",
       "    .dataframe thead th {\n",
       "        text-align: right;\n",
       "    }\n",
       "</style>\n",
       "<table border=\"1\" class=\"dataframe\">\n",
       "  <thead>\n",
       "    <tr style=\"text-align: right;\">\n",
       "      <th></th>\n",
       "      <th>0</th>\n",
       "      <th>1</th>\n",
       "      <th>2</th>\n",
       "    </tr>\n",
       "  </thead>\n",
       "  <tbody>\n",
       "    <tr>\n",
       "      <th>0</th>\n",
       "      <td>1.0</td>\n",
       "      <td>2.0</td>\n",
       "      <td>3.3</td>\n",
       "    </tr>\n",
       "    <tr>\n",
       "      <th>1</th>\n",
       "      <td>4.0</td>\n",
       "      <td>5.0</td>\n",
       "      <td>6.5</td>\n",
       "    </tr>\n",
       "  </tbody>\n",
       "</table>\n",
       "</div>"
      ],
      "text/plain": [
       "     0    1    2\n",
       "0  1.0  2.0  3.3\n",
       "1  4.0  5.0  6.5"
      ]
     },
     "execution_count": 27,
     "metadata": {},
     "output_type": "execute_result"
    }
   ],
   "source": [
    "# Create a DataFrame from a Numpy array\n",
    "import pandas as pd\n",
    "\n",
    "df = pd.DataFrame(arr2)\n",
    "df"
   ]
  },
  {
   "cell_type": "markdown",
   "id": "continuing-rendering",
   "metadata": {},
   "source": [
    "### ML algorithms finds patterns in Numpy Arrays"
   ]
  },
  {
   "cell_type": "code",
   "execution_count": 28,
   "id": "possible-damages",
   "metadata": {},
   "outputs": [],
   "source": [
    "# -----------------------------------------------------------------------"
   ]
  },
  {
   "cell_type": "code",
   "execution_count": 30,
   "id": "satellite-video",
   "metadata": {},
   "outputs": [
    {
     "data": {
      "text/plain": [
       "array(['apple', 'orange', 'cherry'], dtype='<U6')"
      ]
     },
     "execution_count": 30,
     "metadata": {},
     "output_type": "execute_result"
    }
   ],
   "source": [
    "# Array containing strings\n",
    "str_arr = np.array(['apple','orange','cherry'])\n",
    "str_arr"
   ]
  },
  {
   "cell_type": "code",
   "execution_count": 32,
   "id": "economic-level",
   "metadata": {},
   "outputs": [
    {
     "data": {
      "text/plain": [
       "array([b'1', b'2', b'3', b'4', b'5'], dtype='|S1')"
      ]
     },
     "execution_count": 32,
     "metadata": {},
     "output_type": "execute_result"
    }
   ],
   "source": [
    "# Creating Arrays With a Defined Data Type\n",
    "# using dtype\n",
    "def_arr = np.array([1,2,3,4,5],dtype=\"S\")\n",
    "def_arr"
   ]
  },
  {
   "cell_type": "code",
   "execution_count": 33,
   "id": "realistic-simulation",
   "metadata": {},
   "outputs": [],
   "source": [
    "# Converting Data Type on Existing Arrays\n",
    "#ethod make a copy of the array with the astype() m\n",
    "# specify the data type as a parameter. e.g. f for float, i for integer"
   ]
  },
  {
   "cell_type": "code",
   "execution_count": 34,
   "id": "consistent-correspondence",
   "metadata": {},
   "outputs": [
    {
     "data": {
      "text/plain": [
       "dtype('int32')"
      ]
     },
     "execution_count": 34,
     "metadata": {},
     "output_type": "execute_result"
    }
   ],
   "source": [
    "# float to int\n",
    "old_arr = np.array([1.1,3.4,2.5])\n",
    "new_arr = old_arr.astype(\"i\")\n",
    "new_arr\n",
    "new_arr.dtype"
   ]
  },
  {
   "cell_type": "code",
   "execution_count": 35,
   "id": "dynamic-device",
   "metadata": {},
   "outputs": [
    {
     "data": {
      "text/plain": [
       "array([1, 3, 2], dtype=int32)"
      ]
     },
     "execution_count": 35,
     "metadata": {},
     "output_type": "execute_result"
    }
   ],
   "source": [
    "new_arr"
   ]
  },
  {
   "cell_type": "code",
   "execution_count": 37,
   "id": "growing-lloyd",
   "metadata": {},
   "outputs": [
    {
     "data": {
      "text/plain": [
       "array([ True,  True,  True])"
      ]
     },
     "execution_count": 37,
     "metadata": {},
     "output_type": "execute_result"
    }
   ],
   "source": [
    "# int to bool\n",
    "bool_arr = new_arr.astype(bool)\n",
    "bool_arr\n",
    "# 1 or any number = True, 0 = False"
   ]
  },
  {
   "cell_type": "code",
   "execution_count": null,
   "id": "molecular-gossip",
   "metadata": {},
   "outputs": [],
   "source": []
  }
 ],
 "metadata": {
  "kernelspec": {
   "display_name": "Python 3",
   "language": "python",
   "name": "python3"
  },
  "language_info": {
   "codemirror_mode": {
    "name": "ipython",
    "version": 3
   },
   "file_extension": ".py",
   "mimetype": "text/x-python",
   "name": "python",
   "nbconvert_exporter": "python",
   "pygments_lexer": "ipython3",
   "version": "3.8.5"
  }
 },
 "nbformat": 4,
 "nbformat_minor": 5
}
